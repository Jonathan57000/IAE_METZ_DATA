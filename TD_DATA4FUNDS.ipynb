{
  "nbformat": 4,
  "nbformat_minor": 0,
  "metadata": {
    "colab": {
      "provenance": [],
      "authorship_tag": "ABX9TyNi+S6kwGGSGE5htd8mKlrQ",
      "include_colab_link": true
    },
    "kernelspec": {
      "name": "python3",
      "display_name": "Python 3"
    },
    "language_info": {
      "name": "python"
    }
  },
  "cells": [
    {
      "cell_type": "markdown",
      "metadata": {
        "id": "view-in-github",
        "colab_type": "text"
      },
      "source": [
        "<a href=\"https://colab.research.google.com/github/Jonathan57000/IAE_METZ_DATA/blob/main/TD_DATA4FUNDS.ipynb\" target=\"_parent\"><img src=\"https://colab.research.google.com/assets/colab-badge.svg\" alt=\"Open In Colab\"/></a>"
      ]
    },
    {
      "cell_type": "code",
      "execution_count": null,
      "metadata": {
        "colab": {
          "base_uri": "https://localhost:8080/"
        },
        "id": "SE3aE35wn1S9",
        "outputId": "a466f382-77c9-4866-e3a6-bb34bc1220e1"
      },
      "outputs": [
        {
          "output_type": "stream",
          "name": "stdout",
          "text": [
            "Hello World!\n"
          ]
        }
      ],
      "source": [
        "#Premier code python par Clotilde pour le cours de l'IAE Metz\n",
        "print(\"Hello World!\")"
      ]
    },
    {
      "cell_type": "markdown",
      "source": [
        "#Simple example\n"
      ],
      "metadata": {
        "id": "pQr9yy9LQ2K5"
      }
    },
    {
      "cell_type": "code",
      "source": [
        "prenom = \"Clotilde\" #string c'est du texte\n",
        "salaire = 570000 #integer ce sont les entiers naturels\n",
        "height = 1.65 #floats chiffres à virgule"
      ],
      "metadata": {
        "id": "RyCgfVTlp1uP"
      },
      "execution_count": null,
      "outputs": []
    },
    {
      "cell_type": "markdown",
      "source": [
        "# case texte est en markdown\n"
      ],
      "metadata": {
        "id": "scxoa9eIqi1U"
      }
    },
    {
      "cell_type": "code",
      "source": [
        "print(f\"On dirait que {prenom} est en groupe avec Jonahtan, elle gagne {salaire} euros\")"
      ],
      "metadata": {
        "colab": {
          "base_uri": "https://localhost:8080/"
        },
        "id": "cyk1BGOyqnnt",
        "outputId": "fb528cce-1c3b-488c-c670-e8eec7c9bb70"
      },
      "execution_count": null,
      "outputs": [
        {
          "output_type": "stream",
          "name": "stdout",
          "text": [
            "On dirait que Clotilde est en groupe avec Jonahtan, elle gagne 570000 euros\n"
          ]
        }
      ]
    },
    {
      "cell_type": "code",
      "source": [
        "# Arithmetic\n",
        "valeur_1=10\n",
        "valeur_2 = 3\n",
        "\n",
        "a=10\n",
        "b=3\n",
        "\n",
        "a,b=10,3\n"
      ],
      "metadata": {
        "id": "F7Ge4aEgR8M1"
      },
      "execution_count": null,
      "outputs": []
    },
    {
      "cell_type": "code",
      "source": [
        "a,b=10,3\n",
        "print(f\"SUM:{a+b},Differences : {a-b}, Division {a/b}\")"
      ],
      "metadata": {
        "colab": {
          "base_uri": "https://localhost:8080/"
        },
        "id": "mQwXvYV7Th9g",
        "outputId": "09629ad5-6bee-486d-b2d1-b7bed8721234"
      },
      "execution_count": null,
      "outputs": [
        {
          "output_type": "stream",
          "name": "stdout",
          "text": [
            "SUM:13,Differences : 7, Division 3.3333333333333335\n"
          ]
        }
      ]
    },
    {
      "cell_type": "code",
      "source": [
        "print(f\"Division integer : {a//b},Modulos:{a%b},exponnentiel {a**b}\")"
      ],
      "metadata": {
        "colab": {
          "base_uri": "https://localhost:8080/"
        },
        "id": "Z3_kE-zVT7FP",
        "outputId": "b30aca7e-3549-465b-bb5f-3a3007656dfb"
      },
      "execution_count": null,
      "outputs": [
        {
          "output_type": "stream",
          "name": "stdout",
          "text": [
            "Division integer : 3,Modulos:1,exponnentiel 1000\n"
          ]
        }
      ]
    },
    {
      "cell_type": "code",
      "source": [
        "#LIST\n",
        "fruits=[\"apple\",\"bananes\",\"fraises\"]\n",
        "fruits[0]"
      ],
      "metadata": {
        "colab": {
          "base_uri": "https://localhost:8080/",
          "height": 35
        },
        "id": "m1hspkyZUyJY",
        "outputId": "450bfa7d-b59d-4a74-e41e-71700f4950a5"
      },
      "execution_count": null,
      "outputs": [
        {
          "output_type": "execute_result",
          "data": {
            "text/plain": [
              "'apple'"
            ],
            "application/vnd.google.colaboratory.intrinsic+json": {
              "type": "string"
            }
          },
          "metadata": {},
          "execution_count": 16
        }
      ]
    },
    {
      "cell_type": "code",
      "source": [
        "#DICTIONNAIRES\n",
        "# Non ordonnée et paires clé-valeur Uniques et immuables\n",
        "eleve={\"nom\":\"Jonathan\", \"age\":39,\"city\":\"Metz\"}\n"
      ],
      "metadata": {
        "id": "5IShk33IWFbu"
      },
      "execution_count": null,
      "outputs": []
    },
    {
      "cell_type": "code",
      "source": [
        "print(f\"Salut je suis {eleve['nom']} et j'ai {eleve['age']}\")"
      ],
      "metadata": {
        "colab": {
          "base_uri": "https://localhost:8080/"
        },
        "id": "mfFvf8duXnMZ",
        "outputId": "b9de7c77-1d0c-4783-f492-ac4f861a1c02"
      },
      "execution_count": null,
      "outputs": [
        {
          "output_type": "stream",
          "name": "stdout",
          "text": [
            "Salut je suis Jonathan et j'ai 39\n"
          ]
        }
      ]
    },
    {
      "cell_type": "code",
      "source": [
        "#La façon la plus courante de stocker des données en python est via un DATAFRAME\n",
        "\n",
        "#Package\n",
        "import pandas as pd\n",
        "\n",
        "data=pd.DataFrame({'Data': ['2020-01-01','2025-02-11'], 'FondInvestLux' : [10,100],'Amundi': [11,13]})\n",
        "\n",
        "data"
      ],
      "metadata": {
        "colab": {
          "base_uri": "https://localhost:8080/",
          "height": 125
        },
        "id": "B2i3KzIbensR",
        "outputId": "811f0b56-757d-4afa-8d68-d498fff55e78"
      },
      "execution_count": null,
      "outputs": [
        {
          "output_type": "execute_result",
          "data": {
            "text/plain": [
              "         Data  FondInvestLux  Amundi\n",
              "0  2020-01-01             10      11\n",
              "1  2025-02-11            100      13"
            ],
            "text/html": [
              "\n",
              "  <div id=\"df-b818260e-eba7-454f-af9c-72bc5d58d364\" class=\"colab-df-container\">\n",
              "    <div>\n",
              "<style scoped>\n",
              "    .dataframe tbody tr th:only-of-type {\n",
              "        vertical-align: middle;\n",
              "    }\n",
              "\n",
              "    .dataframe tbody tr th {\n",
              "        vertical-align: top;\n",
              "    }\n",
              "\n",
              "    .dataframe thead th {\n",
              "        text-align: right;\n",
              "    }\n",
              "</style>\n",
              "<table border=\"1\" class=\"dataframe\">\n",
              "  <thead>\n",
              "    <tr style=\"text-align: right;\">\n",
              "      <th></th>\n",
              "      <th>Data</th>\n",
              "      <th>FondInvestLux</th>\n",
              "      <th>Amundi</th>\n",
              "    </tr>\n",
              "  </thead>\n",
              "  <tbody>\n",
              "    <tr>\n",
              "      <th>0</th>\n",
              "      <td>2020-01-01</td>\n",
              "      <td>10</td>\n",
              "      <td>11</td>\n",
              "    </tr>\n",
              "    <tr>\n",
              "      <th>1</th>\n",
              "      <td>2025-02-11</td>\n",
              "      <td>100</td>\n",
              "      <td>13</td>\n",
              "    </tr>\n",
              "  </tbody>\n",
              "</table>\n",
              "</div>\n",
              "    <div class=\"colab-df-buttons\">\n",
              "\n",
              "  <div class=\"colab-df-container\">\n",
              "    <button class=\"colab-df-convert\" onclick=\"convertToInteractive('df-b818260e-eba7-454f-af9c-72bc5d58d364')\"\n",
              "            title=\"Convert this dataframe to an interactive table.\"\n",
              "            style=\"display:none;\">\n",
              "\n",
              "  <svg xmlns=\"http://www.w3.org/2000/svg\" height=\"24px\" viewBox=\"0 -960 960 960\">\n",
              "    <path d=\"M120-120v-720h720v720H120Zm60-500h600v-160H180v160Zm220 220h160v-160H400v160Zm0 220h160v-160H400v160ZM180-400h160v-160H180v160Zm440 0h160v-160H620v160ZM180-180h160v-160H180v160Zm440 0h160v-160H620v160Z\"/>\n",
              "  </svg>\n",
              "    </button>\n",
              "\n",
              "  <style>\n",
              "    .colab-df-container {\n",
              "      display:flex;\n",
              "      gap: 12px;\n",
              "    }\n",
              "\n",
              "    .colab-df-convert {\n",
              "      background-color: #E8F0FE;\n",
              "      border: none;\n",
              "      border-radius: 50%;\n",
              "      cursor: pointer;\n",
              "      display: none;\n",
              "      fill: #1967D2;\n",
              "      height: 32px;\n",
              "      padding: 0 0 0 0;\n",
              "      width: 32px;\n",
              "    }\n",
              "\n",
              "    .colab-df-convert:hover {\n",
              "      background-color: #E2EBFA;\n",
              "      box-shadow: 0px 1px 2px rgba(60, 64, 67, 0.3), 0px 1px 3px 1px rgba(60, 64, 67, 0.15);\n",
              "      fill: #174EA6;\n",
              "    }\n",
              "\n",
              "    .colab-df-buttons div {\n",
              "      margin-bottom: 4px;\n",
              "    }\n",
              "\n",
              "    [theme=dark] .colab-df-convert {\n",
              "      background-color: #3B4455;\n",
              "      fill: #D2E3FC;\n",
              "    }\n",
              "\n",
              "    [theme=dark] .colab-df-convert:hover {\n",
              "      background-color: #434B5C;\n",
              "      box-shadow: 0px 1px 3px 1px rgba(0, 0, 0, 0.15);\n",
              "      filter: drop-shadow(0px 1px 2px rgba(0, 0, 0, 0.3));\n",
              "      fill: #FFFFFF;\n",
              "    }\n",
              "  </style>\n",
              "\n",
              "    <script>\n",
              "      const buttonEl =\n",
              "        document.querySelector('#df-b818260e-eba7-454f-af9c-72bc5d58d364 button.colab-df-convert');\n",
              "      buttonEl.style.display =\n",
              "        google.colab.kernel.accessAllowed ? 'block' : 'none';\n",
              "\n",
              "      async function convertToInteractive(key) {\n",
              "        const element = document.querySelector('#df-b818260e-eba7-454f-af9c-72bc5d58d364');\n",
              "        const dataTable =\n",
              "          await google.colab.kernel.invokeFunction('convertToInteractive',\n",
              "                                                    [key], {});\n",
              "        if (!dataTable) return;\n",
              "\n",
              "        const docLinkHtml = 'Like what you see? Visit the ' +\n",
              "          '<a target=\"_blank\" href=https://colab.research.google.com/notebooks/data_table.ipynb>data table notebook</a>'\n",
              "          + ' to learn more about interactive tables.';\n",
              "        element.innerHTML = '';\n",
              "        dataTable['output_type'] = 'display_data';\n",
              "        await google.colab.output.renderOutput(dataTable, element);\n",
              "        const docLink = document.createElement('div');\n",
              "        docLink.innerHTML = docLinkHtml;\n",
              "        element.appendChild(docLink);\n",
              "      }\n",
              "    </script>\n",
              "  </div>\n",
              "\n",
              "\n",
              "<div id=\"df-baa61ef2-81b0-49c4-8a24-7bd566b5c220\">\n",
              "  <button class=\"colab-df-quickchart\" onclick=\"quickchart('df-baa61ef2-81b0-49c4-8a24-7bd566b5c220')\"\n",
              "            title=\"Suggest charts\"\n",
              "            style=\"display:none;\">\n",
              "\n",
              "<svg xmlns=\"http://www.w3.org/2000/svg\" height=\"24px\"viewBox=\"0 0 24 24\"\n",
              "     width=\"24px\">\n",
              "    <g>\n",
              "        <path d=\"M19 3H5c-1.1 0-2 .9-2 2v14c0 1.1.9 2 2 2h14c1.1 0 2-.9 2-2V5c0-1.1-.9-2-2-2zM9 17H7v-7h2v7zm4 0h-2V7h2v10zm4 0h-2v-4h2v4z\"/>\n",
              "    </g>\n",
              "</svg>\n",
              "  </button>\n",
              "\n",
              "<style>\n",
              "  .colab-df-quickchart {\n",
              "      --bg-color: #E8F0FE;\n",
              "      --fill-color: #1967D2;\n",
              "      --hover-bg-color: #E2EBFA;\n",
              "      --hover-fill-color: #174EA6;\n",
              "      --disabled-fill-color: #AAA;\n",
              "      --disabled-bg-color: #DDD;\n",
              "  }\n",
              "\n",
              "  [theme=dark] .colab-df-quickchart {\n",
              "      --bg-color: #3B4455;\n",
              "      --fill-color: #D2E3FC;\n",
              "      --hover-bg-color: #434B5C;\n",
              "      --hover-fill-color: #FFFFFF;\n",
              "      --disabled-bg-color: #3B4455;\n",
              "      --disabled-fill-color: #666;\n",
              "  }\n",
              "\n",
              "  .colab-df-quickchart {\n",
              "    background-color: var(--bg-color);\n",
              "    border: none;\n",
              "    border-radius: 50%;\n",
              "    cursor: pointer;\n",
              "    display: none;\n",
              "    fill: var(--fill-color);\n",
              "    height: 32px;\n",
              "    padding: 0;\n",
              "    width: 32px;\n",
              "  }\n",
              "\n",
              "  .colab-df-quickchart:hover {\n",
              "    background-color: var(--hover-bg-color);\n",
              "    box-shadow: 0 1px 2px rgba(60, 64, 67, 0.3), 0 1px 3px 1px rgba(60, 64, 67, 0.15);\n",
              "    fill: var(--button-hover-fill-color);\n",
              "  }\n",
              "\n",
              "  .colab-df-quickchart-complete:disabled,\n",
              "  .colab-df-quickchart-complete:disabled:hover {\n",
              "    background-color: var(--disabled-bg-color);\n",
              "    fill: var(--disabled-fill-color);\n",
              "    box-shadow: none;\n",
              "  }\n",
              "\n",
              "  .colab-df-spinner {\n",
              "    border: 2px solid var(--fill-color);\n",
              "    border-color: transparent;\n",
              "    border-bottom-color: var(--fill-color);\n",
              "    animation:\n",
              "      spin 1s steps(1) infinite;\n",
              "  }\n",
              "\n",
              "  @keyframes spin {\n",
              "    0% {\n",
              "      border-color: transparent;\n",
              "      border-bottom-color: var(--fill-color);\n",
              "      border-left-color: var(--fill-color);\n",
              "    }\n",
              "    20% {\n",
              "      border-color: transparent;\n",
              "      border-left-color: var(--fill-color);\n",
              "      border-top-color: var(--fill-color);\n",
              "    }\n",
              "    30% {\n",
              "      border-color: transparent;\n",
              "      border-left-color: var(--fill-color);\n",
              "      border-top-color: var(--fill-color);\n",
              "      border-right-color: var(--fill-color);\n",
              "    }\n",
              "    40% {\n",
              "      border-color: transparent;\n",
              "      border-right-color: var(--fill-color);\n",
              "      border-top-color: var(--fill-color);\n",
              "    }\n",
              "    60% {\n",
              "      border-color: transparent;\n",
              "      border-right-color: var(--fill-color);\n",
              "    }\n",
              "    80% {\n",
              "      border-color: transparent;\n",
              "      border-right-color: var(--fill-color);\n",
              "      border-bottom-color: var(--fill-color);\n",
              "    }\n",
              "    90% {\n",
              "      border-color: transparent;\n",
              "      border-bottom-color: var(--fill-color);\n",
              "    }\n",
              "  }\n",
              "</style>\n",
              "\n",
              "  <script>\n",
              "    async function quickchart(key) {\n",
              "      const quickchartButtonEl =\n",
              "        document.querySelector('#' + key + ' button');\n",
              "      quickchartButtonEl.disabled = true;  // To prevent multiple clicks.\n",
              "      quickchartButtonEl.classList.add('colab-df-spinner');\n",
              "      try {\n",
              "        const charts = await google.colab.kernel.invokeFunction(\n",
              "            'suggestCharts', [key], {});\n",
              "      } catch (error) {\n",
              "        console.error('Error during call to suggestCharts:', error);\n",
              "      }\n",
              "      quickchartButtonEl.classList.remove('colab-df-spinner');\n",
              "      quickchartButtonEl.classList.add('colab-df-quickchart-complete');\n",
              "    }\n",
              "    (() => {\n",
              "      let quickchartButtonEl =\n",
              "        document.querySelector('#df-baa61ef2-81b0-49c4-8a24-7bd566b5c220 button');\n",
              "      quickchartButtonEl.style.display =\n",
              "        google.colab.kernel.accessAllowed ? 'block' : 'none';\n",
              "    })();\n",
              "  </script>\n",
              "</div>\n",
              "\n",
              "  <div id=\"id_34255961-c956-483e-8333-050529311694\">\n",
              "    <style>\n",
              "      .colab-df-generate {\n",
              "        background-color: #E8F0FE;\n",
              "        border: none;\n",
              "        border-radius: 50%;\n",
              "        cursor: pointer;\n",
              "        display: none;\n",
              "        fill: #1967D2;\n",
              "        height: 32px;\n",
              "        padding: 0 0 0 0;\n",
              "        width: 32px;\n",
              "      }\n",
              "\n",
              "      .colab-df-generate:hover {\n",
              "        background-color: #E2EBFA;\n",
              "        box-shadow: 0px 1px 2px rgba(60, 64, 67, 0.3), 0px 1px 3px 1px rgba(60, 64, 67, 0.15);\n",
              "        fill: #174EA6;\n",
              "      }\n",
              "\n",
              "      [theme=dark] .colab-df-generate {\n",
              "        background-color: #3B4455;\n",
              "        fill: #D2E3FC;\n",
              "      }\n",
              "\n",
              "      [theme=dark] .colab-df-generate:hover {\n",
              "        background-color: #434B5C;\n",
              "        box-shadow: 0px 1px 3px 1px rgba(0, 0, 0, 0.15);\n",
              "        filter: drop-shadow(0px 1px 2px rgba(0, 0, 0, 0.3));\n",
              "        fill: #FFFFFF;\n",
              "      }\n",
              "    </style>\n",
              "    <button class=\"colab-df-generate\" onclick=\"generateWithVariable('data')\"\n",
              "            title=\"Generate code using this dataframe.\"\n",
              "            style=\"display:none;\">\n",
              "\n",
              "  <svg xmlns=\"http://www.w3.org/2000/svg\" height=\"24px\"viewBox=\"0 0 24 24\"\n",
              "       width=\"24px\">\n",
              "    <path d=\"M7,19H8.4L18.45,9,17,7.55,7,17.6ZM5,21V16.75L18.45,3.32a2,2,0,0,1,2.83,0l1.4,1.43a1.91,1.91,0,0,1,.58,1.4,1.91,1.91,0,0,1-.58,1.4L9.25,21ZM18.45,9,17,7.55Zm-12,3A5.31,5.31,0,0,0,4.9,8.1,5.31,5.31,0,0,0,1,6.5,5.31,5.31,0,0,0,4.9,4.9,5.31,5.31,0,0,0,6.5,1,5.31,5.31,0,0,0,8.1,4.9,5.31,5.31,0,0,0,12,6.5,5.46,5.46,0,0,0,6.5,12Z\"/>\n",
              "  </svg>\n",
              "    </button>\n",
              "    <script>\n",
              "      (() => {\n",
              "      const buttonEl =\n",
              "        document.querySelector('#id_34255961-c956-483e-8333-050529311694 button.colab-df-generate');\n",
              "      buttonEl.style.display =\n",
              "        google.colab.kernel.accessAllowed ? 'block' : 'none';\n",
              "\n",
              "      buttonEl.onclick = () => {\n",
              "        google.colab.notebook.generateWithVariable('data');\n",
              "      }\n",
              "      })();\n",
              "    </script>\n",
              "  </div>\n",
              "\n",
              "    </div>\n",
              "  </div>\n"
            ],
            "application/vnd.google.colaboratory.intrinsic+json": {
              "type": "dataframe",
              "variable_name": "data",
              "summary": "{\n  \"name\": \"data\",\n  \"rows\": 2,\n  \"fields\": [\n    {\n      \"column\": \"Data\",\n      \"properties\": {\n        \"dtype\": \"object\",\n        \"num_unique_values\": 2,\n        \"samples\": [\n          \"2025-02-11\",\n          \"2020-01-01\"\n        ],\n        \"semantic_type\": \"\",\n        \"description\": \"\"\n      }\n    },\n    {\n      \"column\": \"FondInvestLux\",\n      \"properties\": {\n        \"dtype\": \"number\",\n        \"std\": 63,\n        \"min\": 10,\n        \"max\": 100,\n        \"num_unique_values\": 2,\n        \"samples\": [\n          100,\n          10\n        ],\n        \"semantic_type\": \"\",\n        \"description\": \"\"\n      }\n    },\n    {\n      \"column\": \"Amundi\",\n      \"properties\": {\n        \"dtype\": \"number\",\n        \"std\": 1,\n        \"min\": 11,\n        \"max\": 13,\n        \"num_unique_values\": 2,\n        \"samples\": [\n          13,\n          11\n        ],\n        \"semantic_type\": \"\",\n        \"description\": \"\"\n      }\n    }\n  ]\n}"
            }
          },
          "metadata": {},
          "execution_count": 39
        }
      ]
    },
    {
      "cell_type": "code",
      "source": [
        "#Fonctions et boucles basiques à connaitre\n",
        "note=float(input(\"Entrer un chiffre\"))\n",
        "if note>10 :\n",
        "  print(\"T'es un chigachad\")\n",
        "elif note <10 :\n",
        "  print(\"Sale petite merde\")\n",
        "else : # il faut savoir cloturer certaines boucles\n",
        "  print(\"j'ai pile la moyenne)\")\n"
      ],
      "metadata": {
        "colab": {
          "base_uri": "https://localhost:8080/"
        },
        "id": "mhJkfluxgvN8",
        "outputId": "ec0b1a44-1dfa-4357-b318-e9f10fcd451f"
      },
      "execution_count": null,
      "outputs": [
        {
          "output_type": "stream",
          "name": "stdout",
          "text": [
            "Entrer un chiffre12\n",
            "T'es un chigachad\n"
          ]
        }
      ]
    },
    {
      "cell_type": "code",
      "source": [
        "for i in range(3):\n",
        "  print(f\"Boucle avec x iterations de {i}\")"
      ],
      "metadata": {
        "colab": {
          "base_uri": "https://localhost:8080/"
        },
        "id": "AbZjs1hEjwQx",
        "outputId": "ff384d2f-8d1a-478f-b78a-9893b4a2a96e"
      },
      "execution_count": null,
      "outputs": [
        {
          "output_type": "stream",
          "name": "stdout",
          "text": [
            "Boucle avec x iterations de 0\n",
            "Boucle avec x iterations de 1\n",
            "Boucle avec x iterations de 2\n"
          ]
        }
      ]
    },
    {
      "cell_type": "code",
      "source": [
        "#Boucle plus complexe `: WHILE qui est une boucle conditionnelle\n",
        "count=0\n"
      ],
      "metadata": {
        "id": "66i7spmukFCH"
      },
      "execution_count": null,
      "outputs": []
    },
    {
      "cell_type": "code",
      "source": [
        "while count < 3:\n",
        "  print(f\"Count:{4}\")\n",
        "  count+=1"
      ],
      "metadata": {
        "colab": {
          "base_uri": "https://localhost:8080/"
        },
        "id": "1dHOWOXZkkJ_",
        "outputId": "c9b43db5-7cc9-460a-f50e-05002d7f35b8"
      },
      "execution_count": null,
      "outputs": [
        {
          "output_type": "stream",
          "name": "stdout",
          "text": [
            "Count:4\n",
            "Count:4\n",
            "Count:4\n"
          ]
        }
      ]
    },
    {
      "cell_type": "code",
      "source": [
        "#Les bases des fonctions\n",
        "def greet(nom, greeting=\"Hello\"):\n",
        "  return f\"{greeting},{nom}!!!\"\n",
        "print(greet(\"Jade\"))\n",
        "print(greet(\"Jon\",\"T'es gros\"))"
      ],
      "metadata": {
        "colab": {
          "base_uri": "https://localhost:8080/"
        },
        "id": "9Kq9Qonzk8XM",
        "outputId": "1ace8270-4332-4306-d9ba-e1bbc1d15dca"
      },
      "execution_count": null,
      "outputs": [
        {
          "output_type": "stream",
          "name": "stdout",
          "text": [
            "Hello,Jade!!!\n",
            "T'es gros,Jon!!!\n"
          ]
        }
      ]
    },
    {
      "cell_type": "markdown",
      "source": [
        "Etude de cas pour audit\n"
      ],
      "metadata": {
        "id": "7-mLczLTXpPm"
      }
    },
    {
      "cell_type": "markdown",
      "source": [
        "#Etude de cas pour audit"
      ],
      "metadata": {
        "id": "m-79b6m4Yf0Z"
      }
    },
    {
      "cell_type": "code",
      "source": [
        "#Cellule des variables\n",
        "revenus=100000\n",
        "depenses=75000\n",
        "taux_imposition_francais=0.27\n",
        "taux_lux=0.17\n",
        "taux_irelande=0.125"
      ],
      "metadata": {
        "id": "vh38knSJXt-F"
      },
      "execution_count": 5,
      "outputs": []
    },
    {
      "cell_type": "code",
      "source": [
        "#Cellule des calculs\n",
        "benefice=revenus-depenses\n",
        "imposition_francais=benefice*taux_imosition_francais\n",
        "imposition_lux=benefice*taux_lux\n",
        "imposition_irelande=benefice*taux_irelande\n",
        "benefice_net_fr=benefice-imposition_francais\n"
      ],
      "metadata": {
        "collapsed": true,
        "id": "QGGfNBucYFUc"
      },
      "execution_count": 6,
      "outputs": []
    },
    {
      "cell_type": "code",
      "source": [
        "#CEllule des check/prints :calcul en direct\n",
        "print(\"Impot à payer en France\",taux_imposition_francais*benefice, \"euros\")"
      ],
      "metadata": {
        "colab": {
          "base_uri": "https://localhost:8080/"
        },
        "id": "xso48LSjZN8V",
        "outputId": "94a2b3b9-40c1-4407-81e3-0050c1a2aac3"
      },
      "execution_count": 7,
      "outputs": [
        {
          "output_type": "stream",
          "name": "stdout",
          "text": [
            "Impot à payer en France 6750.0 euros\n"
          ]
        }
      ]
    },
    {
      "cell_type": "code",
      "source": [
        "#code plus rapide\n",
        "print(f\"Impot à payer en France\", imposition_francais, \"euros\")"
      ],
      "metadata": {
        "colab": {
          "base_uri": "https://localhost:8080/"
        },
        "id": "mmGCQISrZpic",
        "outputId": "16b0bf95-895f-4d9f-e135-85d664446b59"
      },
      "execution_count": 8,
      "outputs": [
        {
          "output_type": "stream",
          "name": "stdout",
          "text": [
            "Impot à payer en France 6750.0 euros\n"
          ]
        }
      ]
    },
    {
      "cell_type": "code",
      "source": [
        "#comparaison entre irelande et luxembourg\n",
        "print(\"On compare au Luxembourg\", imposition_lux,\"euros\", \"vs en irelande\", imposition_irelande,\"euros\")"
      ],
      "metadata": {
        "colab": {
          "base_uri": "https://localhost:8080/"
        },
        "id": "QrApYDHIZz-7",
        "outputId": "ef5109f8-086f-4263-a425-30fc9ba1c342"
      },
      "execution_count": 9,
      "outputs": [
        {
          "output_type": "stream",
          "name": "stdout",
          "text": [
            "On compare au Luxembourg 4250.0 euros vs en irelande 3125.0 euros\n"
          ]
        }
      ]
    },
    {
      "cell_type": "code",
      "source": [
        "#impot france - lux\n",
        "imposition_francais-imposition_lux"
      ],
      "metadata": {
        "colab": {
          "base_uri": "https://localhost:8080/"
        },
        "id": "5ibCya0paLeT",
        "outputId": "c1d1b130-d9b3-43f1-c794-b854ac55f6c5"
      },
      "execution_count": 10,
      "outputs": [
        {
          "output_type": "execute_result",
          "data": {
            "text/plain": [
              "2500.0"
            ]
          },
          "metadata": {},
          "execution_count": 10
        }
      ]
    },
    {
      "cell_type": "code",
      "source": [
        "#conditions (if,elif,else)\n",
        "if benefice_net_fr >0:\n",
        "  print(\"L'entreprise réalise un bénéfice net. Un bénéf de\", benefice_net_fr, \"euros.\")\n",
        "elif benefice_net_fr==0:\n",
        "  print(\"L'entreprsie est à l'équilibre\")\n",
        "else:\n",
        "  print(\"L''entreprise réalise une perte nette\")"
      ],
      "metadata": {
        "colab": {
          "base_uri": "https://localhost:8080/"
        },
        "id": "-r2Rl0HZaypN",
        "outputId": "608cb0d7-777d-4608-e47f-fbf7d9210807"
      },
      "execution_count": 11,
      "outputs": [
        {
          "output_type": "stream",
          "name": "stdout",
          "text": [
            "L'entreprise réalise un bénéfice net. Un bénéf de 18250.0 euros.\n"
          ]
        }
      ]
    },
    {
      "cell_type": "code",
      "source": [
        "#Utilisation du travail de mes esclaves\n"
      ],
      "metadata": {
        "id": "qSySInodb7VR"
      },
      "execution_count": null,
      "outputs": []
    },
    {
      "cell_type": "markdown",
      "source": [
        "#IMPORTATION des bibliothèques\n",
        "Les packages se différencient en 2 grandes catégories.\n",
        "\n",
        "1) Ceux \"outils\" donc contenant des fonctionns\n",
        "\n",
        "2) Ceux de données, donc contenant des données/Valeurs"
      ],
      "metadata": {
        "id": "_Rb1d0aPcG7V"
      }
    },
    {
      "cell_type": "code",
      "source": [
        "#Le package d'outil le plus répandu enn python est PANDAS( il y a aussi POLARS)\n",
        "\n",
        "import pandas as pd"
      ],
      "metadata": {
        "id": "DyBndhkLcLIB"
      },
      "execution_count": 13,
      "outputs": []
    },
    {
      "cell_type": "code",
      "source": [
        "# Le package \"données\" le plus répandu en python x finance est .... Yahoo finance.\n",
        "import yfinance as yf"
      ],
      "metadata": {
        "id": "Y1Nri7EAdD2x"
      },
      "execution_count": null,
      "outputs": []
    },
    {
      "cell_type": "code",
      "source": [
        "# Block : importation des packages\n",
        "import yfinance as yf\n",
        "import pandas as pd\n",
        "import matplotlib.pyplot as plt\n",
        " #dans les packages \"outils\" vous pouvez sous selectionner le chapitre"
      ],
      "metadata": {
        "id": "sbfuftind2VP"
      },
      "execution_count": 15,
      "outputs": []
    },
    {
      "cell_type": "code",
      "source": [
        "#Block : variables\n",
        "# pour une comparaison d'indices selon les pays\n",
        "france_symbol= 'EWQ'\n",
        "ireland_symbol = 'EWK'\n",
        "lux_symbol= 'SPY'\n"
      ],
      "metadata": {
        "id": "8LDqUP-8eW_q"
      },
      "execution_count": 22,
      "outputs": []
    },
    {
      "cell_type": "code",
      "source": [
        "#block : time frame\n",
        "start_date= \"2010-01-01\"\n",
        "end_date=\"2025-01-01\""
      ],
      "metadata": {
        "id": "mwQOBMXHe7WK"
      },
      "execution_count": 17,
      "outputs": []
    },
    {
      "cell_type": "code",
      "source": [
        "#téléchargement des données historiques de YFINANCE\n",
        "\n",
        "france_data=yf.download(france_symbol,start=start_date,end=end_date)\n",
        "ireland_data=yf.download(ireland_symbol,start=start_date,end=end_date)\n",
        "lux_data=yf.download(lux_symbol,start=start_date,end=end_date)\n",
        "\n"
      ],
      "metadata": {
        "id": "sT7Cv_FefQzV",
        "outputId": "10d496ee-5d78-46d1-cb6c-b9f64738493d",
        "colab": {
          "base_uri": "https://localhost:8080/"
        }
      },
      "execution_count": 33,
      "outputs": [
        {
          "output_type": "stream",
          "name": "stderr",
          "text": [
            "[*********************100%***********************]  1 of 1 completed\n",
            "[*********************100%***********************]  1 of 1 completed\n",
            "[*********************100%***********************]  1 of 1 completed\n"
          ]
        }
      ]
    },
    {
      "cell_type": "code",
      "source": [
        "#print(france_data)"
      ],
      "metadata": {
        "id": "DM_ybAiAiXiu"
      },
      "execution_count": null,
      "outputs": []
    },
    {
      "cell_type": "code",
      "source": [
        "# il y a des jours fériés donc il y a des valeurs nulles\n",
        "france_data.isnull().sum()\n",
        "#data_frame.function_name()"
      ],
      "metadata": {
        "id": "fqW4HFjRiZW-",
        "outputId": "b444e3f6-85f8-4b92-cb5c-92da22d2a9cf",
        "colab": {
          "base_uri": "https://localhost:8080/",
          "height": 269
        }
      },
      "execution_count": 27,
      "outputs": [
        {
          "output_type": "execute_result",
          "data": {
            "text/plain": [
              "Price   Ticker\n",
              "Close   EWQ       0\n",
              "High    EWQ       0\n",
              "Low     EWQ       0\n",
              "Open    EWQ       0\n",
              "Volume  EWQ       0\n",
              "dtype: int64"
            ],
            "text/html": [
              "<div>\n",
              "<style scoped>\n",
              "    .dataframe tbody tr th:only-of-type {\n",
              "        vertical-align: middle;\n",
              "    }\n",
              "\n",
              "    .dataframe tbody tr th {\n",
              "        vertical-align: top;\n",
              "    }\n",
              "\n",
              "    .dataframe thead th {\n",
              "        text-align: right;\n",
              "    }\n",
              "</style>\n",
              "<table border=\"1\" class=\"dataframe\">\n",
              "  <thead>\n",
              "    <tr style=\"text-align: right;\">\n",
              "      <th></th>\n",
              "      <th></th>\n",
              "      <th>0</th>\n",
              "    </tr>\n",
              "    <tr>\n",
              "      <th>Price</th>\n",
              "      <th>Ticker</th>\n",
              "      <th></th>\n",
              "    </tr>\n",
              "  </thead>\n",
              "  <tbody>\n",
              "    <tr>\n",
              "      <th>Close</th>\n",
              "      <th>EWQ</th>\n",
              "      <td>0</td>\n",
              "    </tr>\n",
              "    <tr>\n",
              "      <th>High</th>\n",
              "      <th>EWQ</th>\n",
              "      <td>0</td>\n",
              "    </tr>\n",
              "    <tr>\n",
              "      <th>Low</th>\n",
              "      <th>EWQ</th>\n",
              "      <td>0</td>\n",
              "    </tr>\n",
              "    <tr>\n",
              "      <th>Open</th>\n",
              "      <th>EWQ</th>\n",
              "      <td>0</td>\n",
              "    </tr>\n",
              "    <tr>\n",
              "      <th>Volume</th>\n",
              "      <th>EWQ</th>\n",
              "      <td>0</td>\n",
              "    </tr>\n",
              "  </tbody>\n",
              "</table>\n",
              "</div><br><label><b>dtype:</b> int64</label>"
            ]
          },
          "metadata": {},
          "execution_count": 27
        }
      ]
    },
    {
      "cell_type": "code",
      "source": [
        "#calcul des rendements quotidiens pour chacun des fonds\n",
        "lux_retun=lux_data.pct_change().dropna()\n",
        "france_return=france_data.pct_change().dropna()\n",
        "ireland_return=ireland_data.pct_change().dropna()\n",
        "print(lux_data)"
      ],
      "metadata": {
        "id": "dZUfNZQhjHG9",
        "outputId": "e6973661-95d7-40cb-e7a4-05a3d6e43e0d",
        "colab": {
          "base_uri": "https://localhost:8080/"
        }
      },
      "execution_count": 34,
      "outputs": [
        {
          "output_type": "stream",
          "name": "stdout",
          "text": [
            "Price            Close        High         Low        Open     Volume\n",
            "Ticker             SPY         SPY         SPY         SPY        SPY\n",
            "Date                                                                 \n",
            "2010-01-04   86.026436   86.071979   84.644912   85.297721  118944600\n",
            "2010-01-05   86.254181   86.292137   85.662100   85.973325  111579900\n",
            "2010-01-06   86.314896   86.527437   86.102354   86.170669  116074400\n",
            "2010-01-07   86.679268   86.785539   85.912596   86.155501  131091100\n",
            "2010-01-08   86.967705   87.005661   86.276946   86.451531  126402800\n",
            "...                ...         ...         ...         ...        ...\n",
            "2024-12-24  601.299988  601.340027  595.469971  596.059998   33160100\n",
            "2024-12-26  601.340027  602.479980  598.080017  599.500000   41219100\n",
            "2024-12-27  595.010010  597.780029  590.760010  597.539978   64969300\n",
            "2024-12-30  588.219971  591.739990  584.409973  587.890015   56578800\n",
            "2024-12-31  586.080017  590.640015  584.419983  589.909973   57052700\n",
            "\n",
            "[3774 rows x 5 columns]\n"
          ]
        }
      ]
    },
    {
      "cell_type": "code",
      "source": [
        "#calcul de la rentabilité cumulée ds fonds sur une période\n",
        "lux_cumulative_return=(1+lux_retun).cumprod()-1\n",
        "france_cumulative_return=(1+france_return).cumprod()-1\n",
        "ireland_cumulative_return=(1+ireland_return).cumprod()-1\n",
        "print(lux_cumulative_return)"
      ],
      "metadata": {
        "id": "U6kBBuAOkhHN",
        "outputId": "a257c7a3-3500-4b26-d089-591a70182b63",
        "colab": {
          "base_uri": "https://localhost:8080/"
        }
      },
      "execution_count": 35,
      "outputs": [
        {
          "output_type": "stream",
          "name": "stdout",
          "text": [
            "Price          Close      High       Low      Open    Volume\n",
            "Ticker           SPY       SPY       SPY       SPY       SPY\n",
            "Date                                                        \n",
            "2010-01-05  0.002647  0.002558  0.012017  0.007921 -0.061917\n",
            "2010-01-06  0.003353  0.005292  0.017218  0.010234 -0.024131\n",
            "2010-01-07  0.007589  0.008290  0.014976  0.010056  0.102119\n",
            "2010-01-08  0.010942  0.010848  0.019281  0.013527  0.062703\n",
            "2010-01-11  0.012353  0.015345  0.024482  0.024117 -0.105670\n",
            "...              ...       ...       ...       ...       ...\n",
            "2024-12-24  5.989712  5.986478  6.034917  5.987994 -0.721214\n",
            "2024-12-26  5.990177  5.999723  6.065753  6.028324 -0.653460\n",
            "2024-12-27  5.916595  5.945118  5.979274  6.005345 -0.453785\n",
            "2024-12-30  5.837665  5.874943  5.904254  5.892212 -0.524326\n",
            "2024-12-31  5.812790  5.862164  5.904372  5.915894 -0.520342\n",
            "\n",
            "[3773 rows x 5 columns]\n"
          ]
        }
      ]
    },
    {
      "cell_type": "code",
      "source": [
        "#block : graphiques\n",
        "#présentation à des investisseurs des rdt via un dataframe\n"
      ],
      "metadata": {
        "id": "rEVaf1gNmXbJ"
      },
      "execution_count": 37,
      "outputs": []
    },
    {
      "cell_type": "code",
      "source": [
        "lux_data.plot()"
      ],
      "metadata": {
        "id": "W3LvprEirryE",
        "outputId": "fd60917b-d3d3-4e59-cf4e-7b5bbdbfef26",
        "colab": {
          "base_uri": "https://localhost:8080/",
          "height": 454
        }
      },
      "execution_count": 38,
      "outputs": [
        {
          "output_type": "execute_result",
          "data": {
            "text/plain": [
              "<Axes: xlabel='Date'>"
            ]
          },
          "metadata": {},
          "execution_count": 38
        },
        {
          "output_type": "display_data",
          "data": {
            "text/plain": [
              "<Figure size 640x480 with 1 Axes>"
            ],
            "image/png": "[encoded data removed]"
          },
          "metadata": {}
        }
      ]
    },
    {
      "cell_type": "code",
      "source": [],
      "metadata": {
        "id": "XThwEqQKrw0C"
      },
      "execution_count": null,
      "outputs": []
    }
  ]
}